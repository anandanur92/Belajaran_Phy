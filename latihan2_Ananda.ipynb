{
  "nbformat": 4,
  "nbformat_minor": 0,
  "metadata": {
    "colab": {
      "name": "latihan2_Ananda.ipynb",
      "provenance": [],
      "collapsed_sections": [],
      "include_colab_link": true
    },
    "kernelspec": {
      "name": "python3",
      "display_name": "Python 3"
    }
  },
  "cells": [
    {
      "cell_type": "markdown",
      "metadata": {
        "id": "view-in-github",
        "colab_type": "text"
      },
      "source": [
        "<a href=\"https://colab.research.google.com/github/anandanur92/Kognitif_Phy/blob/master/latihan2_Ananda.ipynb\" target=\"_parent\"><img src=\"https://colab.research.google.com/assets/colab-badge.svg\" alt=\"Open In Colab\"/></a>"
      ]
    },
    {
      "cell_type": "code",
      "metadata": {
        "id": "E1ZZGt-bYdlk",
        "colab_type": "code",
        "colab": {
          "base_uri": "https://localhost:8080/",
          "height": 53
        },
        "outputId": "adee126c-f4b8-49dd-dffa-51510df51685"
      },
      "source": [
        "#2a\n",
        "a=2\n",
        "if 5>a :\n",
        "    print(\"Five is greater than two!\")\n",
        "    print(\"done!\")\n",
        "  "
      ],
      "execution_count": null,
      "outputs": [
        {
          "output_type": "stream",
          "text": [
            "Five is greater than two!\n",
            "done!\n"
          ],
          "name": "stdout"
        }
      ]
    },
    {
      "cell_type": "code",
      "metadata": {
        "id": "Z7RuKrTEY5qI",
        "colab_type": "code",
        "colab": {
          "base_uri": "https://localhost:8080/",
          "height": 35
        },
        "outputId": "d02c84b5-a40e-4d39-9183-429a63120cf9"
      },
      "source": [
        "#2b\n",
        "a=10; b=14; c=20\n",
        "hasil = a + b + c\n",
        "print(hasil)"
      ],
      "execution_count": null,
      "outputs": [
        {
          "output_type": "stream",
          "text": [
            "44\n"
          ],
          "name": "stdout"
        }
      ]
    },
    {
      "cell_type": "code",
      "metadata": {
        "id": "J_X5xmlVY7o2",
        "colab_type": "code",
        "colab": {
          "base_uri": "https://localhost:8080/",
          "height": 53
        },
        "outputId": "58dd2901-70c1-4747-f2dc-dffea64150a0"
      },
      "source": [
        "#2c\n",
        "name = input (\"what is your nick name: \")\n",
        "print ('Hi '+ name + '!')\n"
      ],
      "execution_count": null,
      "outputs": [
        {
          "output_type": "stream",
          "text": [
            "what is your nick name: nanda\n",
            "Hi nanda!\n"
          ],
          "name": "stdout"
        }
      ]
    },
    {
      "cell_type": "code",
      "metadata": {
        "id": "0Sbh-WlUaIDC",
        "colab_type": "code",
        "colab": {
          "base_uri": "https://localhost:8080/",
          "height": 35
        },
        "outputId": "b83de2a5-dc75-498e-8d4f-e0e2e665b283"
      },
      "source": [
        "#3a\n",
        "mystr = \"hello, apa kabar?\" \n",
        "print(mystr)"
      ],
      "execution_count": null,
      "outputs": [
        {
          "output_type": "stream",
          "text": [
            "hello, apa kabar?\n"
          ],
          "name": "stdout"
        }
      ]
    },
    {
      "cell_type": "code",
      "metadata": {
        "id": "l_TK12SeaKIQ",
        "colab_type": "code",
        "colab": {
          "base_uri": "https://localhost:8080/",
          "height": 35
        },
        "outputId": "d7fb22a8-5386-4539-8dd8-a6e057720091"
      },
      "source": [
        "#3b\n",
        "age = str(35)\n",
        "mytext = ' umur adalah '\n",
        "print(mytext + age)"
      ],
      "execution_count": null,
      "outputs": [
        {
          "output_type": "stream",
          "text": [
            " umur adalah 35\n"
          ],
          "name": "stdout"
        }
      ]
    },
    {
      "cell_type": "code",
      "metadata": {
        "id": "YB96db21aTdL",
        "colab_type": "code",
        "colab": {
          "base_uri": "https://localhost:8080/",
          "height": 90
        },
        "outputId": "2e0eaab1-7a83-486a-90bb-eeb1ffeab4d7"
      },
      "source": [
        "#3c\n",
        "print('Penjumlahan 2 angka : x+y')\n",
        "x=input('Masukkan nilai x : ')\n",
        "y=input('Masukkan nilai y: ')\n",
        "hasil = int(x) + int(y)\n",
        "print('Hasil penjumlahan x+y= ', hasil)"
      ],
      "execution_count": null,
      "outputs": [
        {
          "output_type": "stream",
          "text": [
            "Penjumlahan 2 angka : x+y\n",
            "Masukkan nilai x : 6\n",
            "Masukkan nilai y: 8\n",
            "Hasil penjumlahan x+y=  14\n"
          ],
          "name": "stdout"
        }
      ]
    },
    {
      "cell_type": "code",
      "metadata": {
        "id": "giRjt4tYa5sa",
        "colab_type": "code",
        "colab": {
          "base_uri": "https://localhost:8080/",
          "height": 35
        },
        "outputId": "5e9767a5-9624-45c7-d742-9c8b24c60f0e"
      },
      "source": [
        "#4a\n",
        "temperature = {\"20-02-2020\":30,\n",
        "               \"21-02-2020\":29,\n",
        "               \"22-02-2020\":30,\n",
        "               \"23-02-2020\":32,\n",
        "               \"24-02-2020\":30}\n",
        "print(temperature)"
      ],
      "execution_count": null,
      "outputs": [
        {
          "output_type": "stream",
          "text": [
            "{'20-02-2020': 30, '21-02-2020': 29, '22-02-2020': 30, '23-02-2020': 32, '24-02-2020': 30}\n"
          ],
          "name": "stdout"
        }
      ]
    },
    {
      "cell_type": "code",
      "metadata": {
        "id": "uwkWGJwbbbqJ",
        "colab_type": "code",
        "colab": {
          "base_uri": "https://localhost:8080/",
          "height": 108
        },
        "outputId": "16a80bcc-3585-48d1-a3a4-ad6654becd11"
      },
      "source": [
        "#4b\n",
        "for tempdate in temperature.keys():\n",
        "  print(temperature[tempdate])"
      ],
      "execution_count": null,
      "outputs": [
        {
          "output_type": "stream",
          "text": [
            "30\n",
            "29\n",
            "30\n",
            "32\n",
            "30\n"
          ],
          "name": "stdout"
        }
      ]
    },
    {
      "cell_type": "code",
      "metadata": {
        "id": "eyYS1ztBbpOQ",
        "colab_type": "code",
        "colab": {
          "base_uri": "https://localhost:8080/",
          "height": 108
        },
        "outputId": "467ddba5-5391-49f5-e835-e8c5b0441828"
      },
      "source": [
        "#4c\n",
        "for tempdate,temp in temperature.items():\n",
        "  print(tempdate, \":\", temp)"
      ],
      "execution_count": null,
      "outputs": [
        {
          "output_type": "stream",
          "text": [
            "20-02-2020 : 30\n",
            "21-02-2020 : 29\n",
            "22-02-2020 : 30\n",
            "23-02-2020 : 32\n",
            "24-02-2020 : 30\n"
          ],
          "name": "stdout"
        }
      ]
    },
    {
      "cell_type": "code",
      "metadata": {
        "id": "LXbT0XAAccSg",
        "colab_type": "code",
        "colab": {
          "base_uri": "https://localhost:8080/",
          "height": 308
        },
        "outputId": "638830ea-bac7-4b29-acf6-ed3fba447805"
      },
      "source": [
        " #5a\n",
        " temperature = {\"20-02-2020\":30,\n",
        "              \"21-02-2020\":29,\n",
        "              \"22-02-2020\":30,\n",
        "              \"23-02-2020\":32,\n",
        "              \"24-02-2020\":20}\n",
        "print(temperature)\n",
        "\n",
        "for tempdate in temperature.keys():\n",
        "    print(temperature[tempdate])\n",
        "    \n",
        "for tempdate, temp in temperature.items():\n",
        "    print(tempdate,\":\",temp)\n",
        "    \n",
        "for tempdate, temp in temperature.items():\n",
        "    if temp >=32:\n",
        "        print(tempdate,\":\",temp,\" diatas normal\")\n",
        "    elif temp <22:\n",
        "        print(tempdate,\":\",temp,\" dibawah normal\")\n",
        "    else:\n",
        "        print(tempdate,\":\",temp,\" normal\")"
      ],
      "execution_count": null,
      "outputs": [
        {
          "output_type": "stream",
          "text": [
            "{'20-02-2020': 30, '21-02-2020': 29, '22-02-2020': 30, '23-02-2020': 32, '24-02-2020': 20}\n",
            "30\n",
            "29\n",
            "30\n",
            "32\n",
            "20\n",
            "20-02-2020 : 30\n",
            "21-02-2020 : 29\n",
            "22-02-2020 : 30\n",
            "23-02-2020 : 32\n",
            "24-02-2020 : 20\n",
            "20-02-2020 : 30  normal\n",
            "21-02-2020 : 29  normal\n",
            "22-02-2020 : 30  normal\n",
            "23-02-2020 : 32  diatas normal\n",
            "24-02-2020 : 20  dibawah normal\n"
          ],
          "name": "stdout"
        }
      ]
    },
    {
      "cell_type": "code",
      "metadata": {
        "id": "Ecd_7P3ZcrG4",
        "colab_type": "code",
        "colab": {
          "base_uri": "https://localhost:8080/",
          "height": 72
        },
        "outputId": "bfa3853c-2584-436f-9f3a-d2c53c40f39e"
      },
      "source": [
        "#6a\n",
        "\n",
        "def my_function(fname, lname):\n",
        "    print(fname + \" \" + lname)\n",
        "fname= input('input firstname: ')\n",
        "lname= input('input lastname: ')\n",
        "my_function(fname, lname)"
      ],
      "execution_count": null,
      "outputs": [
        {
          "output_type": "stream",
          "text": [
            "input firstname: ada\n",
            "input lastname: wong\n",
            "ada wong\n"
          ],
          "name": "stdout"
        }
      ]
    },
    {
      "cell_type": "code",
      "metadata": {
        "id": "W3qgDKVPc3Eg",
        "colab_type": "code",
        "colab": {
          "base_uri": "https://localhost:8080/",
          "height": 90
        },
        "outputId": "85e3d86d-3c7a-4cfd-a6c1-51cd8d0a4312"
      },
      "source": [
        "#6b\n",
        "\n",
        "def add(x,y) :\n",
        "    jumlah=x+y\n",
        "    return jumlah\n",
        "\n",
        "print('Penjumlahan 2 angka : x + y')\n",
        "x = input ('masukan nilai x :')\n",
        "y = input ('masukan nilai y :')\n",
        "\n",
        "hasil = add(int(x), int(y))\n",
        "print ('Hasil penjumlahan x + y +', hasil)"
      ],
      "execution_count": null,
      "outputs": [
        {
          "output_type": "stream",
          "text": [
            "Penjumlahan 2 angka : x + y\n",
            "masukan nilai x :8\n",
            "masukan nilai y :4\n",
            "Hasil penjumlahan x + y + 12\n"
          ],
          "name": "stdout"
        }
      ]
    },
    {
      "cell_type": "code",
      "metadata": {
        "id": "gjznJ4t-de6E",
        "colab_type": "code",
        "colab": {}
      },
      "source": [
        ""
      ],
      "execution_count": null,
      "outputs": []
    }
  ]
}
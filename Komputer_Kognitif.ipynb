{
  "nbformat": 4,
  "nbformat_minor": 0,
  "metadata": {
    "colab": {
      "name": "Komputer Kognitif.ipynb",
      "provenance": [],
      "collapsed_sections": [],
      "include_colab_link": true
    },
    "kernelspec": {
      "name": "python3",
      "display_name": "Python 3"
    }
  },
  "cells": [
    {
      "cell_type": "markdown",
      "metadata": {
        "id": "view-in-github",
        "colab_type": "text"
      },
      "source": [
        "<a href=\"https://colab.research.google.com/github/anandanur92/Kognitif_Phy/blob/master/Komputer_Kognitif.ipynb\" target=\"_parent\"><img src=\"https://colab.research.google.com/assets/colab-badge.svg\" alt=\"Open In Colab\"/></a>"
      ]
    },
    {
      "cell_type": "code",
      "metadata": {
        "id": "hrTzI6_mfI4W",
        "colab_type": "code",
        "colab": {}
      },
      "source": [
        "from sklearn import tree"
      ],
      "execution_count": 2,
      "outputs": []
    },
    {
      "cell_type": "code",
      "metadata": {
        "id": "SOLV1YMp6w4t",
        "colab_type": "code",
        "colab": {}
      },
      "source": [
        "# features :\n",
        "# TFT = 1\n",
        "# IPS = 2\n",
        "# Super Amoled = 3\n",
        "# Amoled = 4"
      ],
      "execution_count": 3,
      "outputs": []
    },
    {
      "cell_type": "code",
      "metadata": {
        "id": "p_HT-coYgfGM",
        "colab_type": "code",
        "colab": {}
      },
      "source": [
        "features = [[2, 1], [3, 2], [12, 3], [8, 4]]"
      ],
      "execution_count": 5,
      "outputs": []
    },
    {
      "cell_type": "code",
      "metadata": {
        "id": "0FtnjxSx7ULo",
        "colab_type": "code",
        "colab": {}
      },
      "source": [
        "# Labels :\n",
        "# LowEnd SP = 0\n",
        "# Flagship = 1"
      ],
      "execution_count": 6,
      "outputs": []
    },
    {
      "cell_type": "code",
      "metadata": {
        "id": "1XJos2Dh5sv9",
        "colab_type": "code",
        "colab": {}
      },
      "source": [
        "labels = [0, 0, 1,1]"
      ],
      "execution_count": 7,
      "outputs": []
    },
    {
      "cell_type": "code",
      "metadata": {
        "id": "Yneza0lY5xeE",
        "colab_type": "code",
        "colab": {
          "base_uri": "https://localhost:8080/",
          "height": 36
        },
        "outputId": "eb212c12-082f-4aee-99e3-573b62c92ffe"
      },
      "source": [
        "classifier = tree.DecisionTreeClassifier()\n",
        "classifier = classifier.fit(features, labels)\n",
        "# RAM = 4\n",
        "# LCD Type = IPS (2)\n",
        "result = classifier.predict([[4, 2]])\n",
        "if result[0] == 0:\n",
        "  print(\"LowEnd SP\")\n",
        "else:\n",
        "  print(\"Flagship\")"
      ],
      "execution_count": 12,
      "outputs": [
        {
          "output_type": "stream",
          "text": [
            "LowEnd SP\n"
          ],
          "name": "stdout"
        }
      ]
    }
  ]
}